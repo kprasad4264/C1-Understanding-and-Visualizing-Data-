{
 "cells": [
  {
   "cell_type": "markdown",
   "metadata": {},
   "source": [
    "# Practice notebook for univariate analysis using NHANES data\n",
    "\n",
    "This notebook will give you the opportunity to perform some univariate analyses on your own using the NHANES.  These analyses are similar to what was done in the week 2 NHANES case study notebook.\n",
    "\n",
    "You can enter your code into the cells that say \"enter your code here\", and you can type responses to the questions into the cells that say \"Type Markdown and Latex\".\n",
    "\n",
    "Note that most of the code that you will need to write below is very similar to code that appears in the case study notebook.  You will need to edit code from that notebook in small ways to adapt it to the prompts below.\n",
    "\n",
    "To get started, we will use the same module imports and read the data in the same way as we did in the case study:"
   ]
  },
  {
   "cell_type": "code",
   "execution_count": 3,
   "metadata": {},
   "outputs": [],
   "source": [
    "%matplotlib inline\n",
    "import matplotlib.pyplot as plt\n",
    "import seaborn as sns\n",
    "import pandas as pd\n",
    "import statsmodels.api as sm\n",
    "import numpy as np\n",
    "\n",
    "da = pd.read_csv(\"nhanes_2015_2016.csv\")"
   ]
  },
  {
   "cell_type": "markdown",
   "metadata": {},
   "source": [
    "## Question 1\n",
    "\n",
    "Relabel the marital status variable [DMDMARTL](https://wwwn.cdc.gov/Nchs/Nhanes/2015-2016/DEMO_I.htm#DMDMARTL) to have brief but informative character labels.  Then construct a frequency table of these values for all people, then for women only, and for men only.  Then construct these three frequency tables using only people whose age is between 30 and 40."
   ]
  },
  {
   "cell_type": "code",
   "execution_count": 4,
   "metadata": {},
   "outputs": [
    {
     "name": "stdout",
     "output_type": "stream",
     "text": [
      "Index(['SEQN', 'ALQ101', 'ALQ110', 'ALQ130', 'SMQ020', 'RIAGENDR', 'RIDAGEYR',\n",
      "       'RIDRETH1', 'DMDCITZN', 'DMDEDUC2', 'DMDMARTL', 'DMDHHSIZ', 'WTINT2YR',\n",
      "       'SDMVPSU', 'SDMVSTRA', 'INDFMPIR', 'BPXSY1', 'BPXDI1', 'BPXSY2',\n",
      "       'BPXDI2', 'BMXWT', 'BMXHT', 'BMXBMI', 'BMXLEG', 'BMXARML', 'BMXARMC',\n",
      "       'BMXWAIST', 'HIQ210'],\n",
      "      dtype='object')\n",
      "(5735, 28)\n",
      "5474\n",
      "261\n"
     ]
    }
   ],
   "source": [
    "print(da.columns)\n",
    "print(da.shape)\n",
    "print(da.DMDEDUC2.value_counts().sum())\n",
    "print(pd.isnull(da.DMDEDUC2).sum())"
   ]
  },
  {
   "cell_type": "code",
   "execution_count": 5,
   "metadata": {},
   "outputs": [
    {
     "name": "stdout",
     "output_type": "stream",
     "text": [
      "1.0     2780\n",
      "5.0     1004\n",
      "3.0      579\n",
      "6.0      527\n",
      "2.0      396\n",
      "4.0      186\n",
      "77.0       2\n",
      "Name: DMDMARTL, dtype: int64\n",
      "Married                2780\n",
      "Never married          1004\n",
      "Divorced                579\n",
      "Living with partner     527\n",
      "Widowed                 396\n",
      "Separated               186\n",
      "Refused                   2\n",
      "Name: DMDMARTLx, dtype: int64\n",
      "Female    2976\n",
      "Male      2759\n",
      "Name: RIAGENDRx, dtype: int64\n",
      "RIAGENDRx  DMDMARTLx          \n",
      "Female     Married                1303\n",
      "           Never married           520\n",
      "           Divorced                350\n",
      "           Widowed                 296\n",
      "           Living with partner     262\n",
      "           Separated               118\n",
      "           Refused                   1\n",
      "Male       Married                1477\n",
      "           Never married           484\n",
      "           Living with partner     265\n",
      "           Divorced                229\n",
      "           Widowed                 100\n",
      "           Separated                68\n",
      "           Refused                   1\n",
      "Name: DMDMARTLx, dtype: int64\n"
     ]
    },
    {
     "data": {
      "text/html": [
       "<div>\n",
       "<style scoped>\n",
       "    .dataframe tbody tr th:only-of-type {\n",
       "        vertical-align: middle;\n",
       "    }\n",
       "\n",
       "    .dataframe tbody tr th {\n",
       "        vertical-align: top;\n",
       "    }\n",
       "\n",
       "    .dataframe thead th {\n",
       "        text-align: right;\n",
       "    }\n",
       "</style>\n",
       "<table border=\"1\" class=\"dataframe\">\n",
       "  <thead>\n",
       "    <tr style=\"text-align: right;\">\n",
       "      <th></th>\n",
       "      <th>RIAGENDRx</th>\n",
       "      <th>DMDMARTLx</th>\n",
       "      <th>SEQN</th>\n",
       "      <th>ALQ101</th>\n",
       "      <th>ALQ110</th>\n",
       "      <th>ALQ130</th>\n",
       "      <th>SMQ020</th>\n",
       "      <th>RIAGENDR</th>\n",
       "      <th>RIDAGEYR</th>\n",
       "      <th>RIDRETH1</th>\n",
       "      <th>...</th>\n",
       "      <th>BPXSY2</th>\n",
       "      <th>BPXDI2</th>\n",
       "      <th>BMXWT</th>\n",
       "      <th>BMXHT</th>\n",
       "      <th>BMXBMI</th>\n",
       "      <th>BMXLEG</th>\n",
       "      <th>BMXARML</th>\n",
       "      <th>BMXARMC</th>\n",
       "      <th>BMXWAIST</th>\n",
       "      <th>HIQ210</th>\n",
       "    </tr>\n",
       "  </thead>\n",
       "  <tbody>\n",
       "    <tr>\n",
       "      <th>0</th>\n",
       "      <td>Female</td>\n",
       "      <td>Divorced</td>\n",
       "      <td>350</td>\n",
       "      <td>324</td>\n",
       "      <td>137</td>\n",
       "      <td>194</td>\n",
       "      <td>350</td>\n",
       "      <td>350</td>\n",
       "      <td>350</td>\n",
       "      <td>350</td>\n",
       "      <td>...</td>\n",
       "      <td>335</td>\n",
       "      <td>335</td>\n",
       "      <td>347</td>\n",
       "      <td>346</td>\n",
       "      <td>346</td>\n",
       "      <td>321</td>\n",
       "      <td>330</td>\n",
       "      <td>330</td>\n",
       "      <td>325</td>\n",
       "      <td>306</td>\n",
       "    </tr>\n",
       "    <tr>\n",
       "      <th>1</th>\n",
       "      <td>Female</td>\n",
       "      <td>Living with partner</td>\n",
       "      <td>262</td>\n",
       "      <td>227</td>\n",
       "      <td>82</td>\n",
       "      <td>148</td>\n",
       "      <td>262</td>\n",
       "      <td>262</td>\n",
       "      <td>262</td>\n",
       "      <td>262</td>\n",
       "      <td>...</td>\n",
       "      <td>246</td>\n",
       "      <td>246</td>\n",
       "      <td>259</td>\n",
       "      <td>259</td>\n",
       "      <td>259</td>\n",
       "      <td>246</td>\n",
       "      <td>251</td>\n",
       "      <td>250</td>\n",
       "      <td>248</td>\n",
       "      <td>191</td>\n",
       "    </tr>\n",
       "    <tr>\n",
       "      <th>2</th>\n",
       "      <td>Female</td>\n",
       "      <td>Married</td>\n",
       "      <td>1303</td>\n",
       "      <td>1138</td>\n",
       "      <td>529</td>\n",
       "      <td>681</td>\n",
       "      <td>1303</td>\n",
       "      <td>1303</td>\n",
       "      <td>1303</td>\n",
       "      <td>1303</td>\n",
       "      <td>...</td>\n",
       "      <td>1257</td>\n",
       "      <td>1257</td>\n",
       "      <td>1298</td>\n",
       "      <td>1297</td>\n",
       "      <td>1296</td>\n",
       "      <td>1225</td>\n",
       "      <td>1242</td>\n",
       "      <td>1243</td>\n",
       "      <td>1220</td>\n",
       "      <td>1116</td>\n",
       "    </tr>\n",
       "    <tr>\n",
       "      <th>3</th>\n",
       "      <td>Female</td>\n",
       "      <td>Never married</td>\n",
       "      <td>520</td>\n",
       "      <td>467</td>\n",
       "      <td>169</td>\n",
       "      <td>320</td>\n",
       "      <td>520</td>\n",
       "      <td>520</td>\n",
       "      <td>520</td>\n",
       "      <td>520</td>\n",
       "      <td>...</td>\n",
       "      <td>497</td>\n",
       "      <td>497</td>\n",
       "      <td>515</td>\n",
       "      <td>515</td>\n",
       "      <td>515</td>\n",
       "      <td>481</td>\n",
       "      <td>492</td>\n",
       "      <td>492</td>\n",
       "      <td>488</td>\n",
       "      <td>428</td>\n",
       "    </tr>\n",
       "    <tr>\n",
       "      <th>4</th>\n",
       "      <td>Female</td>\n",
       "      <td>Refused</td>\n",
       "      <td>1</td>\n",
       "      <td>0</td>\n",
       "      <td>0</td>\n",
       "      <td>0</td>\n",
       "      <td>1</td>\n",
       "      <td>1</td>\n",
       "      <td>1</td>\n",
       "      <td>1</td>\n",
       "      <td>...</td>\n",
       "      <td>1</td>\n",
       "      <td>1</td>\n",
       "      <td>1</td>\n",
       "      <td>1</td>\n",
       "      <td>1</td>\n",
       "      <td>1</td>\n",
       "      <td>1</td>\n",
       "      <td>1</td>\n",
       "      <td>1</td>\n",
       "      <td>1</td>\n",
       "    </tr>\n",
       "    <tr>\n",
       "      <th>5</th>\n",
       "      <td>Female</td>\n",
       "      <td>Separated</td>\n",
       "      <td>118</td>\n",
       "      <td>108</td>\n",
       "      <td>50</td>\n",
       "      <td>64</td>\n",
       "      <td>118</td>\n",
       "      <td>118</td>\n",
       "      <td>118</td>\n",
       "      <td>118</td>\n",
       "      <td>...</td>\n",
       "      <td>111</td>\n",
       "      <td>111</td>\n",
       "      <td>114</td>\n",
       "      <td>114</td>\n",
       "      <td>114</td>\n",
       "      <td>109</td>\n",
       "      <td>111</td>\n",
       "      <td>111</td>\n",
       "      <td>110</td>\n",
       "      <td>89</td>\n",
       "    </tr>\n",
       "    <tr>\n",
       "      <th>6</th>\n",
       "      <td>Female</td>\n",
       "      <td>Widowed</td>\n",
       "      <td>296</td>\n",
       "      <td>277</td>\n",
       "      <td>155</td>\n",
       "      <td>116</td>\n",
       "      <td>296</td>\n",
       "      <td>296</td>\n",
       "      <td>296</td>\n",
       "      <td>296</td>\n",
       "      <td>...</td>\n",
       "      <td>286</td>\n",
       "      <td>286</td>\n",
       "      <td>292</td>\n",
       "      <td>293</td>\n",
       "      <td>292</td>\n",
       "      <td>252</td>\n",
       "      <td>260</td>\n",
       "      <td>260</td>\n",
       "      <td>252</td>\n",
       "      <td>273</td>\n",
       "    </tr>\n",
       "    <tr>\n",
       "      <th>7</th>\n",
       "      <td>Male</td>\n",
       "      <td>Divorced</td>\n",
       "      <td>229</td>\n",
       "      <td>213</td>\n",
       "      <td>36</td>\n",
       "      <td>151</td>\n",
       "      <td>229</td>\n",
       "      <td>229</td>\n",
       "      <td>229</td>\n",
       "      <td>229</td>\n",
       "      <td>...</td>\n",
       "      <td>222</td>\n",
       "      <td>222</td>\n",
       "      <td>224</td>\n",
       "      <td>226</td>\n",
       "      <td>224</td>\n",
       "      <td>210</td>\n",
       "      <td>211</td>\n",
       "      <td>210</td>\n",
       "      <td>209</td>\n",
       "      <td>189</td>\n",
       "    </tr>\n",
       "    <tr>\n",
       "      <th>8</th>\n",
       "      <td>Male</td>\n",
       "      <td>Living with partner</td>\n",
       "      <td>265</td>\n",
       "      <td>250</td>\n",
       "      <td>31</td>\n",
       "      <td>198</td>\n",
       "      <td>265</td>\n",
       "      <td>265</td>\n",
       "      <td>265</td>\n",
       "      <td>265</td>\n",
       "      <td>...</td>\n",
       "      <td>257</td>\n",
       "      <td>257</td>\n",
       "      <td>264</td>\n",
       "      <td>264</td>\n",
       "      <td>264</td>\n",
       "      <td>252</td>\n",
       "      <td>253</td>\n",
       "      <td>253</td>\n",
       "      <td>253</td>\n",
       "      <td>173</td>\n",
       "    </tr>\n",
       "    <tr>\n",
       "      <th>9</th>\n",
       "      <td>Male</td>\n",
       "      <td>Married</td>\n",
       "      <td>1477</td>\n",
       "      <td>1350</td>\n",
       "      <td>280</td>\n",
       "      <td>948</td>\n",
       "      <td>1477</td>\n",
       "      <td>1477</td>\n",
       "      <td>1477</td>\n",
       "      <td>1477</td>\n",
       "      <td>...</td>\n",
       "      <td>1438</td>\n",
       "      <td>1438</td>\n",
       "      <td>1459</td>\n",
       "      <td>1463</td>\n",
       "      <td>1459</td>\n",
       "      <td>1390</td>\n",
       "      <td>1409</td>\n",
       "      <td>1409</td>\n",
       "      <td>1398</td>\n",
       "      <td>1281</td>\n",
       "    </tr>\n",
       "    <tr>\n",
       "      <th>10</th>\n",
       "      <td>Male</td>\n",
       "      <td>Never married</td>\n",
       "      <td>484</td>\n",
       "      <td>443</td>\n",
       "      <td>89</td>\n",
       "      <td>338</td>\n",
       "      <td>484</td>\n",
       "      <td>484</td>\n",
       "      <td>484</td>\n",
       "      <td>484</td>\n",
       "      <td>...</td>\n",
       "      <td>465</td>\n",
       "      <td>465</td>\n",
       "      <td>474</td>\n",
       "      <td>474</td>\n",
       "      <td>473</td>\n",
       "      <td>459</td>\n",
       "      <td>461</td>\n",
       "      <td>462</td>\n",
       "      <td>462</td>\n",
       "      <td>357</td>\n",
       "    </tr>\n",
       "    <tr>\n",
       "      <th>11</th>\n",
       "      <td>Male</td>\n",
       "      <td>Refused</td>\n",
       "      <td>1</td>\n",
       "      <td>1</td>\n",
       "      <td>0</td>\n",
       "      <td>1</td>\n",
       "      <td>1</td>\n",
       "      <td>1</td>\n",
       "      <td>1</td>\n",
       "      <td>1</td>\n",
       "      <td>...</td>\n",
       "      <td>1</td>\n",
       "      <td>1</td>\n",
       "      <td>1</td>\n",
       "      <td>1</td>\n",
       "      <td>1</td>\n",
       "      <td>0</td>\n",
       "      <td>0</td>\n",
       "      <td>0</td>\n",
       "      <td>0</td>\n",
       "      <td>1</td>\n",
       "    </tr>\n",
       "    <tr>\n",
       "      <th>12</th>\n",
       "      <td>Male</td>\n",
       "      <td>Separated</td>\n",
       "      <td>68</td>\n",
       "      <td>67</td>\n",
       "      <td>6</td>\n",
       "      <td>47</td>\n",
       "      <td>68</td>\n",
       "      <td>68</td>\n",
       "      <td>68</td>\n",
       "      <td>68</td>\n",
       "      <td>...</td>\n",
       "      <td>67</td>\n",
       "      <td>67</td>\n",
       "      <td>68</td>\n",
       "      <td>68</td>\n",
       "      <td>68</td>\n",
       "      <td>64</td>\n",
       "      <td>66</td>\n",
       "      <td>66</td>\n",
       "      <td>65</td>\n",
       "      <td>41</td>\n",
       "    </tr>\n",
       "    <tr>\n",
       "      <th>13</th>\n",
       "      <td>Male</td>\n",
       "      <td>Widowed</td>\n",
       "      <td>100</td>\n",
       "      <td>95</td>\n",
       "      <td>16</td>\n",
       "      <td>53</td>\n",
       "      <td>100</td>\n",
       "      <td>100</td>\n",
       "      <td>100</td>\n",
       "      <td>100</td>\n",
       "      <td>...</td>\n",
       "      <td>96</td>\n",
       "      <td>96</td>\n",
       "      <td>94</td>\n",
       "      <td>96</td>\n",
       "      <td>94</td>\n",
       "      <td>84</td>\n",
       "      <td>88</td>\n",
       "      <td>88</td>\n",
       "      <td>85</td>\n",
       "      <td>90</td>\n",
       "    </tr>\n",
       "  </tbody>\n",
       "</table>\n",
       "<p>14 rows × 30 columns</p>\n",
       "</div>"
      ],
      "text/plain": [
       "   RIAGENDRx            DMDMARTLx  SEQN  ALQ101  ALQ110  ALQ130  SMQ020  \\\n",
       "0     Female             Divorced   350     324     137     194     350   \n",
       "1     Female  Living with partner   262     227      82     148     262   \n",
       "2     Female              Married  1303    1138     529     681    1303   \n",
       "3     Female        Never married   520     467     169     320     520   \n",
       "4     Female              Refused     1       0       0       0       1   \n",
       "5     Female            Separated   118     108      50      64     118   \n",
       "6     Female              Widowed   296     277     155     116     296   \n",
       "7       Male             Divorced   229     213      36     151     229   \n",
       "8       Male  Living with partner   265     250      31     198     265   \n",
       "9       Male              Married  1477    1350     280     948    1477   \n",
       "10      Male        Never married   484     443      89     338     484   \n",
       "11      Male              Refused     1       1       0       1       1   \n",
       "12      Male            Separated    68      67       6      47      68   \n",
       "13      Male              Widowed   100      95      16      53     100   \n",
       "\n",
       "    RIAGENDR  RIDAGEYR  RIDRETH1  ...  BPXSY2  BPXDI2  BMXWT  BMXHT  BMXBMI  \\\n",
       "0        350       350       350  ...     335     335    347    346     346   \n",
       "1        262       262       262  ...     246     246    259    259     259   \n",
       "2       1303      1303      1303  ...    1257    1257   1298   1297    1296   \n",
       "3        520       520       520  ...     497     497    515    515     515   \n",
       "4          1         1         1  ...       1       1      1      1       1   \n",
       "5        118       118       118  ...     111     111    114    114     114   \n",
       "6        296       296       296  ...     286     286    292    293     292   \n",
       "7        229       229       229  ...     222     222    224    226     224   \n",
       "8        265       265       265  ...     257     257    264    264     264   \n",
       "9       1477      1477      1477  ...    1438    1438   1459   1463    1459   \n",
       "10       484       484       484  ...     465     465    474    474     473   \n",
       "11         1         1         1  ...       1       1      1      1       1   \n",
       "12        68        68        68  ...      67      67     68     68      68   \n",
       "13       100       100       100  ...      96      96     94     96      94   \n",
       "\n",
       "    BMXLEG  BMXARML  BMXARMC  BMXWAIST  HIQ210  \n",
       "0      321      330      330       325     306  \n",
       "1      246      251      250       248     191  \n",
       "2     1225     1242     1243      1220    1116  \n",
       "3      481      492      492       488     428  \n",
       "4        1        1        1         1       1  \n",
       "5      109      111      111       110      89  \n",
       "6      252      260      260       252     273  \n",
       "7      210      211      210       209     189  \n",
       "8      252      253      253       253     173  \n",
       "9     1390     1409     1409      1398    1281  \n",
       "10     459      461      462       462     357  \n",
       "11       0        0        0         0       1  \n",
       "12      64       66       66        65      41  \n",
       "13      84       88       88        85      90  \n",
       "\n",
       "[14 rows x 30 columns]"
      ]
     },
     "execution_count": 5,
     "metadata": {},
     "output_type": "execute_result"
    }
   ],
   "source": [
    "# insert your code here\n",
    "print(da.DMDMARTL.value_counts())\n",
    "da[\"DMDMARTLx\"] = da.DMDMARTL.replace({1: \"Married\", 2: \"Widowed\", 3: \"Divorced\", 4: \"Separated\", 5: \"Never married\", \n",
    "                                       6: \"Living with partner\", 77: \"Refused\"})\n",
    "print(da.DMDMARTLx.value_counts())\n",
    "\n",
    "da[\"RIAGENDRx\"] = da.RIAGENDR.replace({1: \"Male\", 2: \"Female\"})\n",
    "print(da.RIAGENDRx.value_counts())\n",
    "print(da.groupby([\"RIAGENDRx\"])[\"DMDMARTLx\"].value_counts())\n",
    "da1 = da.groupby([\"RIAGENDRx\",\"DMDMARTLx\"]).count().reset_index()\n",
    "da1\n",
    "\n",
    "\n",
    "\n"
   ]
  },
  {
   "cell_type": "code",
   "execution_count": 6,
   "metadata": {},
   "outputs": [
    {
     "data": {
      "text/plain": [
       "<matplotlib.axes._subplots.AxesSubplot at 0x7fa4a6717908>"
      ]
     },
     "execution_count": 6,
     "metadata": {},
     "output_type": "execute_result"
    },
    {
     "data": {
      "image/png": "[encoded data removed]",
      "text/plain": [
       "<Figure size 864x360 with 1 Axes>"
      ]
     },
     "metadata": {},
     "output_type": "display_data"
    }
   ],
   "source": [
    "plt.figure(figsize=(12, 5))\n",
    "\n",
    "#sns.distplot(da[\"RIAGENDRx\"],  kde=False)\n",
    "sns.countplot(y=\"DMDMARTLx\", data=da, hue=\"RIAGENDRx\", color=\"c\")"
   ]
  },
  {
   "cell_type": "code",
   "execution_count": 35,
   "metadata": {},
   "outputs": [
    {
     "data": {
      "text/plain": [
       "<matplotlib.axes._subplots.AxesSubplot at 0x7f42f8546710>"
      ]
     },
     "execution_count": 35,
     "metadata": {},
     "output_type": "execute_result"
    },
    {
     "data": {
      "image/png": "[encoded data removed]",
      "text/plain": [
       "<Figure size 864x360 with 1 Axes>"
      ]
     },
     "metadata": {},
     "output_type": "display_data"
    }
   ],
   "source": [
    "da2 = da[(da.RIDAGEYR >= 30) & (da.RIDAGEYR <= 40)]\n",
    "plt.figure(figsize=(12, 5))\n",
    "\n",
    "#sns.distplot(da[\"RIAGENDRx\"],  kde=False)\n",
    "sns.countplot(y=\"DMDMARTLx\", data=da2, hue=\"RIAGENDRx\", color=\"c\")"
   ]
  },
  {
   "cell_type": "markdown",
   "metadata": {},
   "source": [
    "__Q1a.__ Briefly comment on some of the differences that you observe between the distribution of marital status between women and men, for people of all ages."
   ]
  },
  {
   "cell_type": "raw",
   "metadata": {},
   "source": [
    "For people all age, males Marries are more compare to fmale and then followed by never married status where females more compare to male"
   ]
  },
  {
   "cell_type": "markdown",
   "metadata": {},
   "source": [
    "__Q1b.__ Briefly comment on the differences that you observe between the distribution of marital status states for women between the overall population, and for women between the ages of 30 and 40."
   ]
  },
  {
   "cell_type": "raw",
   "metadata": {},
   "source": []
  },
  {
   "cell_type": "markdown",
   "metadata": {},
   "source": [
    "__Q1c.__ Repeat part b for the men."
   ]
  },
  {
   "cell_type": "raw",
   "metadata": {},
   "source": []
  },
  {
   "cell_type": "markdown",
   "metadata": {},
   "source": [
    "## Question 2\n",
    "\n",
    "Restricting to the female population, stratify the subjects into age bands no wider than ten years, and construct the distribution of marital status within each age band.  Within each age band, present the distribution in terms of proportions that must sum to 1."
   ]
  },
  {
   "cell_type": "code",
   "execution_count": 20,
   "metadata": {},
   "outputs": [
    {
     "data": {
      "text/plain": [
       "<matplotlib.axes._subplots.AxesSubplot at 0x7fa4a45dc828>"
      ]
     },
     "execution_count": 20,
     "metadata": {},
     "output_type": "execute_result"
    },
    {
     "data": {
      "image/png": "[encoded data removed]",
      "text/plain": [
       "<Figure size 864x360 with 1 Axes>"
      ]
     },
     "metadata": {},
     "output_type": "display_data"
    }
   ],
   "source": [
    "# insert your code here\n",
    "da[\"agegrp\"] = pd.cut(da.RIDAGEYR, [0, 10, 20, 30, 40, 50, 60,70,80,90,100,110,120])\n",
    "plt.figure(figsize=(12, 5))\n",
    "#sns.boxplot(x ='agegrp', y ='DMDMARTL', data =da)\n",
    "#da.groupby(\"agegrp\")[\"DMDMARTL\"].value_counts()\n",
    "sns.boxplot(x=\"DMDMARTLx\", y=\"BPXSY1\", hue=\"agegrp\", data=da)"
   ]
  },
  {
   "cell_type": "markdown",
   "metadata": {},
   "source": [
    "__Q2a.__ Comment on the trends that you see in this series of marginal distributions."
   ]
  },
  {
   "cell_type": "raw",
   "metadata": {},
   "source": []
  },
  {
   "cell_type": "markdown",
   "metadata": {},
   "source": [
    "__Q2b.__ Repeat the construction for males."
   ]
  },
  {
   "cell_type": "code",
   "execution_count": null,
   "metadata": {},
   "outputs": [],
   "source": [
    "# insert your code here"
   ]
  },
  {
   "cell_type": "markdown",
   "metadata": {},
   "source": [
    "__Q2c.__ Comment on any notable differences that you see when comparing these results for females and for males."
   ]
  },
  {
   "cell_type": "raw",
   "metadata": {},
   "source": []
  },
  {
   "cell_type": "markdown",
   "metadata": {},
   "source": [
    "## Question 3\n",
    "\n",
    "Construct a histogram of the distribution of heights using the BMXHT variable in the NHANES sample."
   ]
  },
  {
   "cell_type": "code",
   "execution_count": null,
   "metadata": {},
   "outputs": [],
   "source": [
    "# insert your code here"
   ]
  },
  {
   "cell_type": "markdown",
   "metadata": {},
   "source": [
    "__Q3a.__ Use the `bins` argument to [distplot](https://seaborn.pydata.org/generated/seaborn.distplot.html) to produce histograms with different numbers of bins.  Assess whether the default value for this argument gives a meaningful result, and comment on what happens as the number of bins grows excessively large or excessively small. "
   ]
  },
  {
   "cell_type": "raw",
   "metadata": {},
   "source": []
  },
  {
   "cell_type": "markdown",
   "metadata": {},
   "source": [
    "__Q3b.__ Make separate histograms for the heights of women and men, then make a side-by-side boxplot showing the heights of women and men."
   ]
  },
  {
   "cell_type": "code",
   "execution_count": 3,
   "metadata": {},
   "outputs": [],
   "source": [
    "# insert your code here"
   ]
  },
  {
   "cell_type": "markdown",
   "metadata": {},
   "source": [
    "__Q3c.__ Comment on what features, if any are not represented clearly in the boxplots, and what features, if any, are easier to see in the boxplots than in the histograms."
   ]
  },
  {
   "cell_type": "raw",
   "metadata": {},
   "source": []
  },
  {
   "cell_type": "markdown",
   "metadata": {},
   "source": [
    "## Question 4\n",
    "\n",
    "Make a boxplot showing the distribution of within-subject differences between the first and second systolic blood pressure measurents ([BPXSY1](https://wwwn.cdc.gov/Nchs/Nhanes/2015-2016/BPX_I.htm#BPXSY1) and [BPXSY2](https://wwwn.cdc.gov/Nchs/Nhanes/2015-2016/BPX_I.htm#BPXSY2))."
   ]
  },
  {
   "cell_type": "code",
   "execution_count": null,
   "metadata": {},
   "outputs": [],
   "source": [
    "# insert your code here"
   ]
  },
  {
   "cell_type": "markdown",
   "metadata": {},
   "source": [
    "__Q4a.__ What proportion of the subjects have a lower SBP on the second reading compared to the first?"
   ]
  },
  {
   "cell_type": "code",
   "execution_count": null,
   "metadata": {},
   "outputs": [],
   "source": [
    "# insert your code here"
   ]
  },
  {
   "cell_type": "markdown",
   "metadata": {},
   "source": [
    "__Q4b.__ Make side-by-side boxplots of the two systolic blood pressure variables."
   ]
  },
  {
   "cell_type": "code",
   "execution_count": 4,
   "metadata": {},
   "outputs": [],
   "source": [
    "# insert your code here"
   ]
  },
  {
   "cell_type": "markdown",
   "metadata": {},
   "source": [
    "__Q4c.__ Comment on the variation within either the first or second systolic blood pressure measurements, and the variation in the within-subject differences between the first and second systolic blood pressure measurements."
   ]
  },
  {
   "cell_type": "raw",
   "metadata": {},
   "source": []
  },
  {
   "cell_type": "markdown",
   "metadata": {},
   "source": [
    "## Question 5\n",
    "\n",
    "Construct a frequency table of household sizes for people within each educational attainment category (the relevant variable is [DMDEDUC2](https://wwwn.cdc.gov/Nchs/Nhanes/2015-2016/DEMO_I.htm#DMDEDUC2)).  Convert the frequencies to proportions."
   ]
  },
  {
   "cell_type": "code",
   "execution_count": null,
   "metadata": {},
   "outputs": [],
   "source": [
    "# insert your code here"
   ]
  },
  {
   "cell_type": "markdown",
   "metadata": {},
   "source": [
    "__Q5a.__ Comment on any major differences among the distributions."
   ]
  },
  {
   "cell_type": "raw",
   "metadata": {},
   "source": []
  },
  {
   "cell_type": "markdown",
   "metadata": {},
   "source": [
    "__Q5b.__ Restrict the sample to people between 30 and 40 years of age.  Then calculate the median household size for women and men within each level of educational attainment."
   ]
  },
  {
   "cell_type": "code",
   "execution_count": 7,
   "metadata": {},
   "outputs": [],
   "source": [
    "# insert your code here"
   ]
  },
  {
   "cell_type": "markdown",
   "metadata": {},
   "source": [
    "## Question 6\n",
    "\n",
    "The participants can be clustered into \"maked variance units\" (MVU) based on every combination of the variables [SDMVSTRA](https://wwwn.cdc.gov/Nchs/Nhanes/2015-2016/DEMO_I.htm#SDMVSTRA) and [SDMVPSU](https://wwwn.cdc.gov/Nchs/Nhanes/2015-2016/DEMO_I.htm#SDMVPSU).  Calculate the mean age ([RIDAGEYR](https://wwwn.cdc.gov/Nchs/Nhanes/2015-2016/DEMO_I.htm#RIDAGEYR)), height ([BMXHT](https://wwwn.cdc.gov/Nchs/Nhanes/2015-2016/BMX_I.htm#BMXHT)), and BMI ([BMXBMI](https://wwwn.cdc.gov/Nchs/Nhanes/2015-2016/BMX_I.htm#BMXBMI)) for each gender ([RIAGENDR](https://wwwn.cdc.gov/Nchs/Nhanes/2015-2016/DEMO_I.htm#RIAGENDR)), within each MVU, and report the ratio between the largest and smallest mean (e.g. for height) across the MVUs."
   ]
  },
  {
   "cell_type": "code",
   "execution_count": 1,
   "metadata": {},
   "outputs": [],
   "source": [
    "# insert your code here"
   ]
  },
  {
   "cell_type": "markdown",
   "metadata": {},
   "source": [
    "__Q6a.__ Comment on the extent to which mean age, height, and BMI vary among the MVUs."
   ]
  },
  {
   "cell_type": "raw",
   "metadata": {},
   "source": []
  },
  {
   "cell_type": "markdown",
   "metadata": {},
   "source": [
    "__Q6b.__ Calculate the inter-quartile range (IQR) for age, height, and BMI for each gender and each MVU.  Report the ratio between the largest and smalles IQR across the MVUs."
   ]
  },
  {
   "cell_type": "code",
   "execution_count": null,
   "metadata": {},
   "outputs": [],
   "source": [
    "# insert your code here"
   ]
  },
  {
   "cell_type": "markdown",
   "metadata": {},
   "source": [
    "__Q6c.__ Comment on the extent to which the IQR for age, height, and BMI vary among the MVUs."
   ]
  },
  {
   "cell_type": "raw",
   "metadata": {},
   "source": []
  }
 ],
 "metadata": {
  "kernelspec": {
   "display_name": "Python 3",
   "language": "python",
   "name": "python3"
  },
  "language_info": {
   "codemirror_mode": {
    "name": "ipython",
    "version": 3
   },
   "file_extension": ".py",
   "mimetype": "text/x-python",
   "name": "python",
   "nbconvert_exporter": "python",
   "pygments_lexer": "ipython3",
   "version": "3.6.3"
  }
 },
 "nbformat": 4,
 "nbformat_minor": 2
}
